{
 "cells": [
  {
   "cell_type": "code",
   "execution_count": 1,
   "id": "b14002a6",
   "metadata": {},
   "outputs": [
    {
     "data": {
      "text/html": [
       "<div>\n",
       "<style scoped>\n",
       "    .dataframe tbody tr th:only-of-type {\n",
       "        vertical-align: middle;\n",
       "    }\n",
       "\n",
       "    .dataframe tbody tr th {\n",
       "        vertical-align: top;\n",
       "    }\n",
       "\n",
       "    .dataframe thead th {\n",
       "        text-align: right;\n",
       "    }\n",
       "</style>\n",
       "<table border=\"1\" class=\"dataframe\">\n",
       "  <thead>\n",
       "    <tr style=\"text-align: right;\">\n",
       "      <th></th>\n",
       "      <th>train</th>\n",
       "      <th>age</th>\n",
       "      <th>educ</th>\n",
       "      <th>black</th>\n",
       "      <th>hisp</th>\n",
       "      <th>married</th>\n",
       "      <th>earn96</th>\n",
       "      <th>unem96</th>\n",
       "      <th>earn98</th>\n",
       "      <th>unem98</th>\n",
       "    </tr>\n",
       "  </thead>\n",
       "  <tbody>\n",
       "    <tr>\n",
       "      <th>0</th>\n",
       "      <td>0</td>\n",
       "      <td>37</td>\n",
       "      <td>11</td>\n",
       "      <td>1</td>\n",
       "      <td>0</td>\n",
       "      <td>1</td>\n",
       "      <td>0.0</td>\n",
       "      <td>1</td>\n",
       "      <td>1.617924</td>\n",
       "      <td>0</td>\n",
       "    </tr>\n",
       "  </tbody>\n",
       "</table>\n",
       "</div>"
      ],
      "text/plain": [
       "   train  age  educ  black  hisp  married  earn96  unem96    earn98  unem98\n",
       "0      0   37    11      1     0        1     0.0       1  1.617924       0"
      ]
     },
     "execution_count": 1,
     "metadata": {},
     "output_type": "execute_result"
    }
   ],
   "source": [
    "import pandas as pd\n",
    "import pyreadstat as st\n",
    "path = r\"C:\\Users\\HP\\OneDrive\\Escritorio\\David Guzzi\\DiTella\\MEC\\Materias\\2025\\2025 2T\\[MT08-MT13] Microeconometría II\\Clases\\Stata\\jobtraining.dta\"\n",
    "\n",
    "df, meta = st.read_dta(path)\n",
    "df.head(1)"
   ]
  },
  {
   "cell_type": "code",
   "execution_count": 2,
   "id": "89b48db9",
   "metadata": {},
   "outputs": [
    {
     "name": "stdout",
     "output_type": "stream",
     "text": [
      "<class 'pandas.core.frame.DataFrame'>\n",
      "RangeIndex: 1130 entries, 0 to 1129\n",
      "Data columns (total 10 columns):\n",
      " #   Column   Non-Null Count  Dtype  \n",
      "---  ------   --------------  -----  \n",
      " 0   train    1130 non-null   int64  \n",
      " 1   age      1130 non-null   int64  \n",
      " 2   educ     1130 non-null   int64  \n",
      " 3   black    1130 non-null   int64  \n",
      " 4   hisp     1130 non-null   int64  \n",
      " 5   married  1130 non-null   int64  \n",
      " 6   earn96   1130 non-null   float64\n",
      " 7   unem96   1130 non-null   int64  \n",
      " 8   earn98   1130 non-null   float64\n",
      " 9   unem98   1130 non-null   int64  \n",
      "dtypes: float64(2), int64(8)\n",
      "memory usage: 88.4 KB\n"
     ]
    }
   ],
   "source": [
    "df.info()"
   ]
  },
  {
   "cell_type": "code",
   "execution_count": 3,
   "id": "46c06124",
   "metadata": {},
   "outputs": [
    {
     "data": {
      "text/plain": [
       "train\n",
       "0    0.667257\n",
       "1    0.332743\n",
       "Name: proportion, dtype: float64"
      ]
     },
     "execution_count": 3,
     "metadata": {},
     "output_type": "execute_result"
    }
   ],
   "source": [
    "df['train'].value_counts(normalize=True)"
   ]
  },
  {
   "cell_type": "code",
   "execution_count": 4,
   "id": "297a32bd",
   "metadata": {},
   "outputs": [
    {
     "name": "stdout",
     "output_type": "stream",
     "text": [
      "                            OLS Regression Results                            \n",
      "==============================================================================\n",
      "Dep. Variable:                 earn98   R-squared:                       0.016\n",
      "Model:                            OLS   Adj. R-squared:                  0.015\n",
      "Method:                 Least Squares   F-statistic:                     17.91\n",
      "Date:                Tue, 16 Sep 2025   Prob (F-statistic):           2.50e-05\n",
      "Time:                        19:32:44   Log-Likelihood:                -3905.0\n",
      "No. Observations:                1130   AIC:                             7814.\n",
      "Df Residuals:                    1128   BIC:                             7824.\n",
      "Df Model:                           1                                         \n",
      "Covariance Type:            nonrobust                                         \n",
      "==============================================================================\n",
      "                 coef    std err          t      P>|t|      [0.025      0.975]\n",
      "------------------------------------------------------------------------------\n",
      "const         10.6099      0.279     37.970      0.000      10.062      11.158\n",
      "train         -2.0501      0.484     -4.232      0.000      -3.001      -1.100\n",
      "==============================================================================\n",
      "Omnibus:                       95.786   Durbin-Watson:                   1.596\n",
      "Prob(Omnibus):                  0.000   Jarque-Bera (JB):               47.707\n",
      "Skew:                           0.331   Prob(JB):                     4.37e-11\n",
      "Kurtosis:                       2.241   Cond. No.                         2.41\n",
      "==============================================================================\n",
      "\n",
      "Notes:\n",
      "[1] Standard Errors assume that the covariance matrix of the errors is correctly specified.\n"
     ]
    }
   ],
   "source": [
    "import statsmodels.api as sm\n",
    "\n",
    "# Definir la variable dependiente (Y) y la independiente (X)\n",
    "Y = df['earn98']\n",
    "X = df['train']\n",
    "\n",
    "# Agregar una constante para el intercepto\n",
    "X = sm.add_constant(X)\n",
    "\n",
    "# Ajustar el modelo de regresión\n",
    "model = sm.OLS(Y, X).fit()\n",
    "\n",
    "# Mostrar el resumen de la regresión\n",
    "print(model.summary())"
   ]
  },
  {
   "cell_type": "code",
   "execution_count": 5,
   "id": "955b8972",
   "metadata": {},
   "outputs": [
    {
     "name": "stdout",
     "output_type": "stream",
     "text": [
      "                            OLS Regression Results                            \n",
      "==============================================================================\n",
      "Dep. Variable:                 earn98   R-squared:                       0.387\n",
      "Model:                            OLS   Adj. R-squared:                  0.385\n",
      "Method:                 Least Squares   F-statistic:                     177.6\n",
      "Date:                Tue, 16 Sep 2025   Prob (F-statistic):          5.99e-118\n",
      "Time:                        19:34:23   Log-Likelihood:                -3637.4\n",
      "No. Observations:                1130   AIC:                             7285.\n",
      "Df Residuals:                    1125   BIC:                             7310.\n",
      "Df Model:                           4                                         \n",
      "Covariance Type:            nonrobust                                         \n",
      "==============================================================================\n",
      "                 coef    std err          t      P>|t|      [0.025      0.975]\n",
      "------------------------------------------------------------------------------\n",
      "const          4.5986      1.162      3.958      0.000       2.319       6.878\n",
      "train          2.0896      0.438      4.771      0.000       1.230       2.949\n",
      "age           -0.1424      0.018     -7.943      0.000      -0.178      -0.107\n",
      "educ           0.4026      0.065      6.231      0.000       0.276       0.529\n",
      "earn96         0.3907      0.019     20.968      0.000       0.354       0.427\n",
      "==============================================================================\n",
      "Omnibus:                       16.833   Durbin-Watson:                   2.061\n",
      "Prob(Omnibus):                  0.000   Jarque-Bera (JB):               17.411\n",
      "Skew:                           0.302   Prob(JB):                     0.000166\n",
      "Kurtosis:                       2.927   Cond. No.                         243.\n",
      "==============================================================================\n",
      "\n",
      "Notes:\n",
      "[1] Standard Errors assume that the covariance matrix of the errors is correctly specified.\n"
     ]
    }
   ],
   "source": [
    "import statsmodels.api as sm\n",
    "\n",
    "# Definir la variable dependiente (Y) y la independiente (X)\n",
    "Y = df['earn98']\n",
    "X = df[['train', 'age', 'educ', 'earn96']]\n",
    "\n",
    "# Agregar una constante para el intercepto\n",
    "X = sm.add_constant(X)\n",
    "\n",
    "# Ajustar el modelo de regresión\n",
    "model = sm.OLS(Y, X).fit()\n",
    "\n",
    "# Mostrar el resumen de la regresión\n",
    "print(model.summary())"
   ]
  },
  {
   "cell_type": "code",
   "execution_count": 6,
   "id": "b2eba9b7",
   "metadata": {},
   "outputs": [
    {
     "name": "stdout",
     "output_type": "stream",
     "text": [
      "                            OLS Regression Results                            \n",
      "==============================================================================\n",
      "Dep. Variable:                 earn98   R-squared:                       0.387\n",
      "Model:                            OLS   Adj. R-squared:                  0.385\n",
      "Method:                 Least Squares   F-statistic:                     177.6\n",
      "Date:                Tue, 16 Sep 2025   Prob (F-statistic):          5.99e-118\n",
      "Time:                        19:38:22   Log-Likelihood:                -3637.4\n",
      "No. Observations:                1130   AIC:                             7285.\n",
      "Df Residuals:                    1125   BIC:                             7310.\n",
      "Df Model:                           4                                         \n",
      "Covariance Type:            nonrobust                                         \n",
      "==============================================================================\n",
      "                 coef    std err          t      P>|t|      [0.025      0.975]\n",
      "------------------------------------------------------------------------------\n",
      "const          9.2324      0.232     39.814      0.000       8.777       9.687\n",
      "train          2.0896      0.438      4.771      0.000       1.230       2.949\n",
      "dmage         -0.1424      0.018     -7.943      0.000      -0.178      -0.107\n",
      "dmeduc         0.4026      0.065      6.231      0.000       0.276       0.529\n",
      "dmearn96       0.3907      0.019     20.968      0.000       0.354       0.427\n",
      "==============================================================================\n",
      "Omnibus:                       16.833   Durbin-Watson:                   2.061\n",
      "Prob(Omnibus):                  0.000   Jarque-Bera (JB):               17.411\n",
      "Skew:                           0.302   Prob(JB):                     0.000166\n",
      "Kurtosis:                       2.927   Cond. No.                         30.3\n",
      "==============================================================================\n",
      "\n",
      "Notes:\n",
      "[1] Standard Errors assume that the covariance matrix of the errors is correctly specified.\n"
     ]
    }
   ],
   "source": [
    "import statsmodels.api as sm\n",
    "\n",
    "# Calcular medias\n",
    "mage = df[\"age\"].mean()\n",
    "meduc = df[\"educ\"].mean()\n",
    "mearn96 = df[\"earn96\"].mean()\n",
    "\n",
    "# Generar variables centradas (demeaned)\n",
    "df[\"dmage\"] = df[\"age\"] - mage\n",
    "df[\"dmeduc\"] = df[\"educ\"] - meduc\n",
    "df[\"dmearn96\"] = df[\"earn96\"] - mearn96\n",
    "\n",
    "# Definir variables independientes\n",
    "X = df[[\"train\", \"dmage\", \"dmeduc\", \"dmearn96\"]]\n",
    "X = sm.add_constant(X)  # añade el intercepto como Stata lo hace por defecto\n",
    "\n",
    "# Variable dependiente\n",
    "y = df[\"earn98\"]\n",
    "\n",
    "# Estimar la regresión\n",
    "model = sm.OLS(y, X).fit()\n",
    "\n",
    "print(model.summary())"
   ]
  },
  {
   "cell_type": "code",
   "execution_count": 8,
   "id": "cd5ceb5f",
   "metadata": {},
   "outputs": [],
   "source": [
    "# Lo único que se altera es la constante. Iguales impactos en obs y no obs."
   ]
  },
  {
   "cell_type": "code",
   "execution_count": 9,
   "id": "aa9dcfa0",
   "metadata": {},
   "outputs": [
    {
     "name": "stdout",
     "output_type": "stream",
     "text": [
      "                            OLS Regression Results                            \n",
      "==============================================================================\n",
      "Dep. Variable:                 earn98   R-squared:                       0.392\n",
      "Model:                            OLS   Adj. R-squared:                  0.388\n",
      "Method:                 Least Squares   F-statistic:                     103.3\n",
      "Date:                Tue, 16 Sep 2025   Prob (F-statistic):          1.31e-116\n",
      "Time:                        19:41:18   Log-Likelihood:                -3632.8\n",
      "No. Observations:                1130   AIC:                             7282.\n",
      "Df Residuals:                    1122   BIC:                             7322.\n",
      "Df Model:                           7                                         \n",
      "Covariance Type:            nonrobust                                         \n",
      "==============================================================================\n",
      "                 coef    std err          t      P>|t|      [0.025      0.975]\n",
      "------------------------------------------------------------------------------\n",
      "const          5.4427      1.406      3.871      0.000       2.684       8.202\n",
      "train          2.9271      0.538      5.438      0.000       1.871       3.983\n",
      "age           -0.1616      0.022     -7.333      0.000      -0.205      -0.118\n",
      "educ           0.4133      0.079      5.255      0.000       0.259       0.568\n",
      "earn96         0.3693      0.020     18.414      0.000       0.330       0.409\n",
      "Tdmage         0.0623      0.038      1.650      0.099      -0.012       0.136\n",
      "Tdmeduc       -0.0322      0.137     -0.234      0.815      -0.302       0.237\n",
      "Tdmearn96      0.1432      0.054      2.665      0.008       0.038       0.249\n",
      "==============================================================================\n",
      "Omnibus:                       16.214   Durbin-Watson:                   2.073\n",
      "Prob(Omnibus):                  0.000   Jarque-Bera (JB):               16.721\n",
      "Skew:                           0.297   Prob(JB):                     0.000234\n",
      "Kurtosis:                       2.963   Cond. No.                         293.\n",
      "==============================================================================\n",
      "\n",
      "Notes:\n",
      "[1] Standard Errors assume that the covariance matrix of the errors is correctly specified.\n"
     ]
    }
   ],
   "source": [
    "# Ahora se permite diferencia de impacto entre obs y no obs.\n",
    "\n",
    "import statsmodels.api as sm\n",
    "\n",
    "# Supongamos que ya definiste df y calculaste mage, meduc, mearn96 como antes\n",
    "df[\"dmage\"] = df[\"age\"] - df[\"age\"].mean()\n",
    "df[\"dmeduc\"] = df[\"educ\"] - df[\"educ\"].mean()\n",
    "df[\"dmearn96\"] = df[\"earn96\"] - df[\"earn96\"].mean()\n",
    "\n",
    "# Crear interacciones\n",
    "df[\"Tdmage\"] = df[\"train\"] * df[\"dmage\"]\n",
    "df[\"Tdmeduc\"] = df[\"train\"] * df[\"dmeduc\"]\n",
    "df[\"Tdmearn96\"] = df[\"train\"] * df[\"dmearn96\"]\n",
    "\n",
    "# Definir X y y según tu especificación\n",
    "X = df[[\"train\", \"age\", \"educ\", \"earn96\", \"Tdmage\", \"Tdmeduc\", \"Tdmearn96\"]]\n",
    "X = sm.add_constant(X)  # intercepto como en Stata\n",
    "\n",
    "y = df[\"earn98\"]\n",
    "\n",
    "# Estimar el modelo\n",
    "model = sm.OLS(y, X).fit()\n",
    "\n",
    "print(model.summary())"
   ]
  },
  {
   "cell_type": "code",
   "execution_count": 10,
   "id": "038af1ea",
   "metadata": {},
   "outputs": [
    {
     "name": "stdout",
     "output_type": "stream",
     "text": [
      "count    1130.000000\n",
      "mean        2.927066\n",
      "std         1.658098\n",
      "min         0.278459\n",
      "25%         1.528930\n",
      "50%         2.642693\n",
      "75%         4.363625\n",
      "max         7.574343\n",
      "Name: tau, dtype: float64\n"
     ]
    }
   ],
   "source": [
    "import statsmodels.api as sm\n",
    "\n",
    "# Subconjuntos\n",
    "df1 = df[df[\"train\"] == 1].copy()\n",
    "df0 = df[df[\"train\"] == 0].copy()\n",
    "\n",
    "# Modelo para train==1\n",
    "X1 = sm.add_constant(df1[[\"age\", \"educ\", \"earn96\"]])\n",
    "y1 = df1[\"earn98\"]\n",
    "model1 = sm.OLS(y1, X1).fit()\n",
    "\n",
    "# Modelo para train==0\n",
    "X0 = sm.add_constant(df0[[\"age\", \"educ\", \"earn96\"]])\n",
    "y0 = df0[\"earn98\"]\n",
    "model0 = sm.OLS(y0, X0).fit()\n",
    "\n",
    "# Predicciones para TODOS los datos, usando cada modelo\n",
    "X_all = sm.add_constant(df[[\"age\", \"educ\", \"earn96\"]])\n",
    "df[\"yhat1\"] = model1.predict(X_all)   # lo que predeciría el modelo con train==1\n",
    "df[\"yhat0\"] = model0.predict(X_all)   # lo que predeciría el modelo con train==0\n",
    "\n",
    "# Diferencia\n",
    "df[\"tau\"] = df[\"yhat1\"] - df[\"yhat0\"]\n",
    "\n",
    "# Resumen estadístico de tau\n",
    "print(df[\"tau\"].describe())"
   ]
  },
  {
   "cell_type": "code",
   "execution_count": null,
   "id": "41a87e28",
   "metadata": {},
   "outputs": [],
   "source": []
  }
 ],
 "metadata": {
  "kernelspec": {
   "display_name": "Python 3",
   "language": "python",
   "name": "python3"
  },
  "language_info": {
   "codemirror_mode": {
    "name": "ipython",
    "version": 3
   },
   "file_extension": ".py",
   "mimetype": "text/x-python",
   "name": "python",
   "nbconvert_exporter": "python",
   "pygments_lexer": "ipython3",
   "version": "3.12.2"
  }
 },
 "nbformat": 4,
 "nbformat_minor": 5
}
